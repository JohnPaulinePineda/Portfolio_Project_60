{
 "cells": [
  {
   "cell_type": "markdown",
   "id": "4ebc3bd2-7773-440d-ad45-51eb19aeb330",
   "metadata": {},
   "source": [
    "***\n",
    "# Model Deployment : Containerizing and Deploying Machine Learning API Endpoints on Open-Source Platforms"
   ]
  },
  {
   "cell_type": "markdown",
   "id": "4ab8cd79-3963-44a9-9699-109cb674c2f2",
   "metadata": {},
   "source": [
    "***\n",
    "### [**John Pauline Pineda**](https://github.com/JohnPaulinePineda) <br> <br> *March 5, 2025*\n",
    "***"
   ]
  },
  {
   "cell_type": "markdown",
   "id": "677caad4-11ed-4174-91f3-bb93a7e72e57",
   "metadata": {},
   "source": [
    "* [**1. Table of Contents**](#TOC)\n",
    "    * [1.1 Model Development](#1.1)\n",
    "        * [1.1.1 Data Background](#1.1.1)\n",
    "        * [1.1.2 Model Building](#1.1.2)\n",
    "        * [1.1.3 Model Inference](#1.1.3)\n",
    "    * [1.2 Application Programming Interface (API) Development](#1.2)\n",
    "        * [1.2.1 API Building](#1.2.1)\n",
    "        * [1.2.2 API Testing](#1.2.2)\n",
    "    * [1.3 Application Containerization](#1.3)\n",
    "        * [1.3.1 Docker File Creation](#1.3.1)\n",
    "        * [1.3.2 Docker Image Building](#1.3.2)\n",
    "        * [1.3.3 Docker Image Testing](#1.3.3)\n",
    "    * [1.4 Application Programming Interface (API) Deployment](#1.4)\n",
    "        * [1.4.1 API Container Hosting](#1.4.1)\n",
    "    * [1.5 User Interface (UI) Development](#1.5)\n",
    "        * [1.5.1 UI Building With API Calls](#1.5.1)\n",
    "    * [1.6 Web Application Deployment](#1.6)\n",
    "        * [1.6.1 UI Hosting](#1.6.1)\n",
    "    * [1.7 Consolidated Findings](#1.7)\n",
    "* [**2. Summary**](#Summary)   \n",
    "* [**3. References**](#References)\n",
    "\n",
    "***"
   ]
  },
  {
   "cell_type": "markdown",
   "id": "77d0ccf2-9e7f-4876-950b-f3bc6428c738",
   "metadata": {},
   "source": [
    "# 1. Table of Contents <a class=\"anchor\" id=\"TOC\"></a>"
   ]
  },
  {
   "cell_type": "markdown",
   "id": "5bb6333a-adfc-4207-becf-baae0f348624",
   "metadata": {},
   "source": [
    "## 1.1. Model Development <a class=\"anchor\" id=\"1.1\"></a>"
   ]
  },
  {
   "cell_type": "markdown",
   "id": "578db3e6-c145-4f41-9935-182bfb308796",
   "metadata": {},
   "source": [
    "### 1.1.1 Data Background <a class=\"anchor\" id=\"1.1.1\"></a>"
   ]
  },
  {
   "cell_type": "markdown",
   "id": "87198be8-c6b2-4908-a182-5c90120df117",
   "metadata": {},
   "source": [
    "### 1.1.2 Model Building <a class=\"anchor\" id=\"1.1.2\"></a>"
   ]
  },
  {
   "cell_type": "markdown",
   "id": "e9263e74-1701-488d-b8f8-128cdbfa7964",
   "metadata": {},
   "source": [
    "### 1.1.3 Model Inference <a class=\"anchor\" id=\"1.1.3\"></a>"
   ]
  },
  {
   "cell_type": "markdown",
   "id": "5965fbb9-891a-4a02-a2f3-3ca78f7f455a",
   "metadata": {},
   "source": [
    "## 1.2. Application Programming Interface (API) Development <a class=\"anchor\" id=\"1.2\"></a>"
   ]
  },
  {
   "cell_type": "markdown",
   "id": "8a08b43c-e1a4-4a6b-a9c7-d57b2e9f9490",
   "metadata": {},
   "source": [
    "### 1.2.1 API Building <a class=\"anchor\" id=\"1.2.1\"></a>"
   ]
  },
  {
   "cell_type": "markdown",
   "id": "54fd6c32-a7b1-4dae-879a-92b747752758",
   "metadata": {},
   "source": [
    "### 1.2.2 API Testing <a class=\"anchor\" id=\"1.2.2\"></a>"
   ]
  },
  {
   "cell_type": "markdown",
   "id": "0e7b6c82-0203-4b48-bc76-b828463706b9",
   "metadata": {},
   "source": [
    "## 1.3. Application Containerization <a class=\"anchor\" id=\"1.3\"></a>"
   ]
  },
  {
   "cell_type": "markdown",
   "id": "49dd23b5-714a-4dbd-9c4e-07da29b59592",
   "metadata": {},
   "source": [
    "### 1.3.1 Docker File Creation <a class=\"anchor\" id=\"1.3.1\"></a>"
   ]
  },
  {
   "cell_type": "markdown",
   "id": "562b49be-a28c-41b5-9871-52fb2f69abf5",
   "metadata": {},
   "source": [
    "### 1.3.2 Docker Image Building <a class=\"anchor\" id=\"1.3.2\"></a>"
   ]
  },
  {
   "cell_type": "markdown",
   "id": "164100a7-4a18-40c0-987a-0f204ae051f7",
   "metadata": {},
   "source": [
    "### 1.3.3 Docker Image Testing <a class=\"anchor\" id=\"1.3.3\"></a>"
   ]
  },
  {
   "cell_type": "markdown",
   "id": "e0b3086b-3f1e-4c61-90e8-f1e069edc234",
   "metadata": {},
   "source": [
    "## 1.4. Application Programming Interface (API) Deployment <a class=\"anchor\" id=\"1.4\"></a>"
   ]
  },
  {
   "cell_type": "markdown",
   "id": "ea790d63-3fb3-4cde-affa-f847aedbc563",
   "metadata": {},
   "source": [
    "### 1.4.1 API Container Hosting <a class=\"anchor\" id=\"1.4.1\"></a>"
   ]
  },
  {
   "cell_type": "markdown",
   "id": "67a7b071-786e-4375-9fee-1329e2730abd",
   "metadata": {},
   "source": [
    "## 1.5. User Interface (UI) Development <a class=\"anchor\" id=\"1.5\"></a>"
   ]
  },
  {
   "cell_type": "markdown",
   "id": "d57211d5-8fb3-437f-a7b5-309a21731f72",
   "metadata": {},
   "source": [
    "### 1.5.1 UI Building With API Calls <a class=\"anchor\" id=\"1.5.1\"></a>"
   ]
  },
  {
   "cell_type": "markdown",
   "id": "aacce12d-4745-42d5-8e25-b4475840979e",
   "metadata": {},
   "source": [
    "## 1.6. Web Application Deployment <a class=\"anchor\" id=\"1.6\"></a>"
   ]
  },
  {
   "cell_type": "markdown",
   "id": "a0849ec3-3dc7-456f-baad-8af0d509defb",
   "metadata": {},
   "source": [
    "### 1.6.1 UI Hosting <a class=\"anchor\" id=\"1.6.1\"></a>"
   ]
  },
  {
   "cell_type": "markdown",
   "id": "89b0c607-7489-48ae-9872-3a207b524a88",
   "metadata": {},
   "source": [
    "## 1.7. Consolidated Findings <a class=\"anchor\" id=\"1.7\"></a>"
   ]
  },
  {
   "cell_type": "markdown",
   "id": "cd7be98b-eb93-4cf0-95d1-e19ee9176719",
   "metadata": {},
   "source": [
    "# 2. Summary <a class=\"anchor\" id=\"Summary\"></a>"
   ]
  },
  {
   "cell_type": "markdown",
   "id": "db813c40-3f27-4e3d-920c-7be5a24c2468",
   "metadata": {},
   "source": [
    "# 3. References <a class=\"anchor\" id=\"References\"></a>\n",
    "* **[Book]** [Building Machine Learning Powered Applications: Going From Idea to Product](https://www.oreilly.com/library/view/building-machine-learning/9781492045106/) by Emmanuel Ameisen\n",
    "* **[Book]** [Designing Machine Learning Systems: An Iterative Process for Production-Ready Applications](https://www.oreilly.com/library/view/designing-machine-learning/9781098107956/) by Chip Huyen\n",
    "* **[Book]** [Machine Learning Bookcamp: Build a Portfolio of Real-Life Projects](https://www.manning.com/books/machine-learning-bookcamp) by Alexey Grigorev and Adam Newmark \n",
    "* **[Book]** [Building Machine Learning Pipelines: Automating Model Life Cycles with TensorFlow](https://www.oreilly.com/library/view/building-machine-learning/9781492053187/) by Hannes Hapke and Catherine Nelson\n",
    "* **[Book]** [Hands-On APIs for AI and Data Science: Python Development with FastAPI](https://handsonapibook.com/index.html) by Ryan Day\n",
    "* **[Book]** [Managing Machine Learning Projects: From Design to Deployment](https://www.manning.com/books/managing-machine-learning-projects) by Simon Thompson\n",
    "* **[Book]** [Building Data Science Applications with FastAPI: Develop, Manage, and Deploy Efficient Machine Learning Applications with Python](https://www.oreilly.com/library/view/building-data-science/9781837632749/) by François Voron\n",
    "* **[Book]** [Microservice APIs: Using Python, Flask, FastAPI, OpenAPI and More](https://www.manning.com/books/microservice-apis) by Jose Haro Peralta\n",
    "* **[Book]** [Machine Learning Engineering with Python: Manage the Lifecycle of Machine Learning odels using MLOps with Practical Examples](https://www.oreilly.com/library/view/machine-learning-engineering/9781837631964/) by Andrew McMahon\n",
    "* **[Book]** [Introducing MLOps: How to Scale Machine Learning in the Enterprise](https://www.oreilly.com/library/view/introducing-mlops/9781492083283/) by Mark Treveil, Nicolas Omont, Clément Stenac, Kenji Lefevre, Du Phan, Joachim Zentici, Adrien Lavoillotte, Makoto Miyazaki and Lynn Heidmann\n",
    "* **[Book]** [Practical Python Backend Programming: Build Flask and FastAPI Applications, Asynchronous Programming, Containerization and Deploy Apps on Cloud](https://leanpub.com/practicalpythonbackendprogramming) by Tim Peters\n",
    "* **[Python Library API]** [NumPy](https://numpy.org/doc/) by NumPy Team\n",
    "* **[Python Library API]** [pandas](https://pandas.pydata.org/docs/) by Pandas Team\n",
    "* **[Python Library API]** [seaborn](https://seaborn.pydata.org/) by Seaborn Team\n",
    "* **[Python Library API]** [matplotlib.pyplot](https://matplotlib.org/3.5.3/api/_as_gen/matplotlib.pyplot.html) by MatPlotLib Team\n",
    "* **[Python Library API]** [matplotlib.image](https://matplotlib.org/stable/api/image_api.html) by MatPlotLib Team\n",
    "* **[Python Library API]** [matplotlib.offsetbox](https://matplotlib.org/stable/api/offsetbox_api.html) by MatPlotLib Team\n",
    "* **[Python Library API]** [itertools](https://docs.python.org/3/library/itertools.html) by Python Team\n",
    "* **[Python Library API]** [operator](https://docs.python.org/3/library/operator.html) by Python Team\n",
    "* **[Python Library API]** [sklearn.experimental](https://scikit-learn.org/stable/modules/classes.html#module-sklearn.experimental) by Scikit-Learn Team\n",
    "* **[Python Library API]** [sklearn.impute](https://scikit-learn.org/stable/modules/classes.html#module-sklearn.impute) by Scikit-Learn Team\n",
    "* **[Python Library API]** [sklearn.linear_model](https://scikit-learn.org/stable/modules/classes.html#module-sklearn.linear_model) by Scikit-Learn Team\n",
    "* **[Python Library API]** [sklearn.preprocessing](https://scikit-learn.org/stable/modules/classes.html#module-sklearn.preprocessing) by Scikit-Learn Team\n",
    "* **[Python Library API]** [scipy](https://docs.scipy.org/doc/scipy/) by SciPy Team\n",
    "* **[Python Library API]** [sklearn.tree](https://scikit-learn.org/stable/modules/tree.html) by Scikit-Learn Team\n",
    "* **[Python Library API]** [sklearn.ensemble](https://scikit-learn.org/stable/modules/ensemble.html) by Scikit-Learn Team\n",
    "* **[Python Library API]** [sklearn.svm](https://scikit-learn.org/stable/modules/svm.html) by Scikit-Learn Team\n",
    "* **[Python Library API]** [sklearn.metrics](https://scikit-learn.org/stable/modules/model_evaluation.html) by Scikit-Learn Team\n",
    "* **[Python Library API]** [sklearn.model_selection](https://scikit-learn.org/stable/model_selection.html) by Scikit-Learn Team\n",
    "* **[Python Library API]** [imblearn.over_sampling](https://imbalanced-learn.org/stable/over_sampling.html) by Imbalanced-Learn Team\n",
    "* **[Python Library API]** [imblearn.under_sampling](https://imbalanced-learn.org/stable/under_sampling.html) by Imbalanced-Learn Team\n",
    "* **[Python Library API]** [SciKit-Survival](https://pypi.org/project/scikit-survival/) by SciKit-Survival Team\n",
    "* **[Python Library API]** [SciKit-Learn](https://scikit-learn.org/stable/index.html) by SciKit-Learn Team\n",
    "* **[Python Library API]** [StatsModels](https://www.statsmodels.org/stable/index.html) by StatsModels Team\n",
    "* **[Python Library API]** [SciPy](https://scipy.org/) by SciPy Team\n",
    "* **[Python Library API]** [Lifelines](https://lifelines.readthedocs.io/en/latest/) by Lifelines Team\n",
    "* **[Python Library API]** [Streamlit](https://streamlit.io/) by Streamlit Team\n",
    "* **[Python Library API]** [Streamlit Community Cloud](https://streamlit.io/cloud) by Streamlit Team\n",
    "* **[Article]** [ML - Deploy Machine Learning Models Using FastAPI](https://dorian599.medium.com/ml-deploy-machine-learning-models-using-fastapi-6ab6aef7e777) by Dorian Machado (Medium)\n",
    "* **[Article]** [Deploying Machine Learning Models Using FastAPI](https://medium.com/@kevinnjagi83/deploying-machine-learning-models-using-fastapi-0389c576d8f1) by Kevin Njagi (Medium)\n",
    "* **[Article]** [Deploy Machine Learning API with FastAPI for Free](https://lightning.ai/lightning-ai/studios/deploy-machine-learning-api-with-fastapi-for-free?section=featured) by Aniket Maurya (Lightning.AI)\n",
    "* **[Article]** [How to Use FastAPI for Machine Learning](https://blog.jetbrains.com/pycharm/2024/09/how-to-use-fastapi-for-machine-learning/) by Cheuk Ting Ho (JetBrains.Com)\n",
    "* **[Article]** [Deploying and Hosting a Machine Learning Model with FastAPI and Heroku](https://testdriven.io/blog/fastapi-machine-learning/) by Michael Herman (TestDriven.IO)\n",
    "* **[Article]** [A Practical Guide to Deploying Machine Learning Models](https://machinelearningmastery.com/a-practical-guide-to-deploying-machine-learning-models/) by Bala Priya (MachineLearningMastery.Com)\n",
    "* **[Article]** [Using FastAPI to Deploy Machine Learning Models](https://engineering.rappi.com/using-fastapi-to-deploy-machine-learning-models-cd5ed7219ea) by Carl Handlin (Medium)\n",
    "* **[Article]** [How to Deploy a Machine Learning Model](https://www.maartengrootendorst.com/blog/deploy/) by Maarten Grootendorst (MaartenGrootendorst.Com)\n",
    "* **[Article]** [Accelerating Machine Learning Deployment: Unleashing the Power of FastAPI and Docker](https://medium.datadriveninvestor.com/accelerating-machine-learning-deployment-unleashing-the-power-of-fastapi-and-docker-933865cb990a) by Pratyush Khare (Medium)\n",
    "* **[Article]** [Containerize and Deploy ML Models with FastAPI & Docker](https://towardsdev.com/containerize-and-deploy-ml-models-with-fastapi-docker-d8c19cc8ef94) by Hemachandran Dhinakaran (Medium)\n",
    "* **[Article]** [Quick Tutorial to Deploy Your ML models using FastAPI and Docker](https://shreyansh26.github.io/post/2020-11-30_fast_api_docker_ml_deploy/) by Shreyansh Singh (GitHub)\n",
    "* **[Article]** [How to Deploying Machine Learning Models in Production](https://levelup.gitconnected.com/how-to-deploying-machine-learning-models-in-production-3009b90eadfa) by Umair Akram (Medium)\n",
    "* **[Article]** [Deploying a Machine Learning Model with FastAPI: A Comprehensive Guide](https://ai.plainenglish.io/deploying-a-machine-learning-model-with-fastapi-a-comprehensive-guide-997ac747601d) by Muhammad Naveed Arshad (Medium)\n",
    "* **[Article]** [Deploy Machine Learning Model with REST API using FastAPI](https://blog.yusufberki.net/deploy-machine-learning-model-with-rest-api-using-fastapi-288f229161b7) by Yusuf Berki Yazıcıoğlu (Medium)\n",
    "* **[Article]** [Deploying An ML Model With FastAPI — A Succinct Guide](https://towardsdatascience.com/deploying-an-ml-model-with-fastapi-a-succinct-guide-69eceda27b21) by Yash Prakash (Medium)\n",
    "* **[Article]** [How to Build a Machine Learning App with FastAPI: Dockerize and Deploy the FastAPI Application to Kubernetes](https://dev.to/bravinsimiyu/beginner-guide-on-how-to-build-a-machine-learning-app-with-fastapi-part-ii-deploying-the-fastapi-application-to-kubernetes-4j6g) by Bravin Wasike (Dev.TO)\n",
    "* **[Article]** [Building a Machine Learning Model API with Flask: A Step-by-Step Guide](https://medium.com/@nileshshindeofficial/building-a-machine-learning-model-api-with-flask-a-step-by-step-guide-6f85e9bb9773) by Nilesh Shinde (Medium)\n",
    "* **[Article]** [Deploying Your Machine Learning Model as a REST API Using Flask](https://medium.com/analytics-vidhya/deploying-your-machine-learning-model-as-a-rest-api-using-flask-c2e6a0b574f5) by Emmanuel Oludare (Medium)\n",
    "* **[Article]** [Machine Learning Model Deployment on Heroku Using Flask](https://towardsdatascience.com/machine-learning-model-deployment-on-heroku-using-flask-467acb4a34da) by Charu Makhijani (Medium)\n",
    "* **[Article]** [Model Deployment using Flask](https://towardsdatascience.com/model-deployment-using-flask-c5dcbb6499c9) by Ravindra Sharma (Medium)\n",
    "* **[Article]** [Deploy a Machine Learning Model using Flask: Step-By-Step](https://codefather.tech/blog/deploy-machine-learning-model-flask/) by Claudio Sabato (CodeFather.Tech)\n",
    "* **[Article]** [How to Deploy a Machine Learning Model using Flask?](https://datadance.ai/machine-learning/how-to-deploy-a-machine-learning-model-using-flask/) by DataDance.AI Team (DataDance.AI)\n",
    "* **[Article]** [A Comprehensive Guide on Deploying Machine Learning Models with Flask](https://machinelearningmodels.org/a-comprehensive-guide-on-deploying-machine-learning-models-with-flask/) by MachineLearningModels.Org Team (MachineLearningModels.Org)\n",
    "* **[Article]** [How to Deploy Machine Learning Models with Flask and Docker](https://python.plainenglish.io/how-to-deploy-machine-learning-models-with-flask-and-docker-3c4d6116e809) by Usama Malik (Medium)\n",
    "* **[Article]** [Deploying Machine Learning Models with Flask: A Step-by-Step Guide](https://medium.com/@sukmahanifah/deploying-machine-learning-models-with-flask-a-step-by-step-guide-cd22967c1f66) by Sukma Hanifa (Medium)\n",
    "* **[Article]** [Machine Learning Model Deployment on Heroku Using Flask](https://towardsdatascience.com/machine-learning-model-deployment-on-heroku-using-flask-467acb4a34da) by Charu Makhijani (Medium)\n",
    "* **[Article]** [Complete Guide on Model Deployment with Flask and Heroku](https://towardsdatascience.com/complete-guide-on-model-deployment-with-flask-and-heroku-98c87554a6b9) by Tarek Ghanoum (Medium)\n",
    "* **[Article]** [Turning Machine Learning Models into APIs in Python](https://www.datacamp.com/tutorial/machine-learning-models-api-python) by Sayak Paul (DataCamp)\n",
    "* **[Article]** [Machine Learning, Pipelines, Deployment and MLOps Tutorial](https://www.datacamp.com/tutorial/tutorial-machine-learning-pipelines-mlops-deployment) by Moez Ali (DataCamp)\n",
    "* **[Article]** [Docker vs. Podman: Which Containerization Tool is Right for You](https://www.datacamp.com/blog/docker-vs-podman) by Jake Roach (DataCamp)\n",
    "* **[Article]** [Introduction to Podman for Machine Learning: Streamlining MLOps Workflows](https://geekflare.com/devops/podman-vs-docker/) by Abid Ali Awan (DataCamp)\n",
    "* **[Article]** [Podman vs Docker: Which One to Choose?](https://www.datacamp.com/tutorial/tutorial-machine-learning-pipelines-mlops-deployment) by Talha Khalid (GeekFlare)\n",
    "* **[Article]** [Docker Vs Podman : Which One to Choose?](https://blog.fourninecloud.com/docker-vs-podman-which-one-to-choose-b6387bd29db3) by Saiteja Bellam (Medium)\n",
    "* **[Article]** [Podman vs Docker: What Are the Key Differences Explained in Detail](https://www.geeksforgeeks.org/podman-vs-docker/) by Geeks For Geeks Team (GeeksForGeeks.Com)\n",
    "* **[Video Tutorial]** [Machine Learning Models Deployment with Flask and Docker](https://www.youtube.com/watch?v=KTd2a1QKlwo) by Data Science Dojo (YouTube)\n",
    "* **[Video Tutorial]** [Deploy Machine Learning Model Flask](https://www.youtube.com/watch?v=MxJnR1DMmsY) by Stats Wire (YouTube)\n",
    "* **[Video Tutorial]** [Deploy Machine Learning Models with Flask | Using Render to host API and Get URL :Step-By-Step Guide](https://www.youtube.com/watch?v=LBlvuUaIg58) by Prachet Shah (YouTube)\n",
    "* **[Video Tutorial]** [Deploy Machine Learning Model using Flask](https://www.youtube.com/watch?app=desktop&v=UbCWoMf80PY&t=597s) by Krish Naik (YouTube)\n",
    "* **[Video Tutorial]** [Deploy Your ML Model Using Flask Framework](https://www.youtube.com/watch?v=PtyyVGsE-u0) by MSFTImagine (YouTube)\n",
    "* **[Video Tutorial]** [Build a Machine Learning App From Scratch with Flask & Docker](https://www.youtube.com/watch?v=S--SD4QbGps) by Patrick Loeber (YouTube)\n",
    "* **[Video Tutorial]** [Deploying a Machine Learning Model to a Web with Flask and Python Anywhere](https://www.youtube.com/watch?v=3w3vBu2WMvk) by Prof. Phd. Manoel Gadi (YouTube)\n",
    "* **[Video Tutorial]** [End To End Machine Learning Project With Deployment Using Flask](https://www.youtube.com/watch?v=RnOU2bumBPE) by Data Science Diaries (YouTube)\n",
    "* **[Video Tutorial]** [Publish ML Model as API or Web with Python Flask](https://www.youtube.com/watch?v=_cLbGKKrggs) by Python ML Daily (YouTube)\n",
    "* **[Video Tutorial]** [Deploy a Machine Learning Model using Flask API to Heroku](https://www.youtube.com/watch?v=Q_Z5kzKpofk) by Jackson Yuan (YouTube)\n",
    "* **[Video Tutorial]** [Deploying Machine Learning Model with FlaskAPI - CI/CD for ML Series](https://www.youtube.com/watch?v=vxF5uEoL1C4) by Anthony Soronnadi (YouTube)\n",
    "* **[Video Tutorial]** [Deploy ML model as Webservice | ML model deployment | Machine Learning | Data Magic](https://www.youtube.com/watch?v=3U1T8cLL-1M) by Data Magic (YouTube)\n",
    "* **[Video Tutorial]** [Deploying Machine Learning Model Using Flask](https://www.youtube.com/watch?v=ng15EVDrL28) by DataMites (YouTube)\n",
    "* **[Video Tutorial]** [ML Model Deployment With Flask On Heroku | How To Deploy Machine Learning Model With Flask | Edureka](https://www.youtube.com/watch?v=pMIwu5FwJ78) by Edureka (YouTube)\n",
    "* **[Video Tutorial]** [ML Model Deployment with Flask | Machine Learning & Data Science](https://www.youtube.com/watch?v=Od0gS3Qeges) by Dan Bochman (YouTube)\n",
    "* **[Video Tutorial]** [How to Deploy ML Solutions with FastAPI, Docker, & AWS](https://www.youtube.com/watch?v=pJ_nCklQ65w) by Shaw Talebi (YouTube)\n",
    "* **[Video Tutorial]** [Deploy ML models with FastAPI, Docker, and Heroku | Tutorial](https://www.youtube.com/watch?v=h5wLuVDr0oc) by AssemblyAI (YouTube)\n",
    "* **[Video Tutorial]** [Machine Learning Model Deployment Using FastAPI](https://www.youtube.com/watch?v=0s-oat69UqU) by TheOyinbooke (YouTube)\n",
    "* **[Video Tutorial]** [Creating APIs For Machine Learning Models with FastAPI](https://www.youtube.com/watch?v=5PgqzVG9SCk) by NeuralNine (YouTube)\n",
    "* **[Video Tutorial]** [How To Deploy Machine Learning Models Using FastAPI-Deployment Of ML Models As API’s](https://www.youtube.com/watch?v=b5F667g1yCk) by Krish Naik (YouTube)\n",
    "* **[Video Tutorial]** [Machine Learning Model with FastAPI, Streamlit and Docker](https://www.youtube.com/watch?v=cCsnmxXxWaM) by CodeTricks (YouTube)\n",
    "* **[Video Tutorial]** [FastAPI Machine Learning Model Deployment | Python | FastAPI](https://www.youtube.com/watch?v=DUhzTi3w5KA) by Stats Wire (YouTube)\n",
    "* **[Video Tutorial]** [Deploying Machine Learning Models - Full Guide](https://www.youtube.com/watch?v=oyYur3uVl4w) by NeuralNine (YouTube)\n",
    "* **[Video Tutorial]** [Model Deployment FAST API - Docker | Machine Learning Model Deployment pipeline | FastAPI VS Flask](https://www.youtube.com/watch?v=YvvOuY9L_Yw) by 360DigiTMG (YouTube)\n",
    "* **[Video Tutorial]** [Build an AI app with FastAPI and Docker - Coding Tutorial with Tips](https://www.youtube.com/watch?v=iqrS7Q174Ac) by Patrick Loeber (YouTube)\n",
    "* **[Video Tutorial]** [Create a Deep Learning API with Python and FastAPI](https://www.youtube.com/watch?v=NrarIs9n24I) by DataQuest (YouTube)\n",
    "* **[Video Tutorial]** [Fast API Machine Learning Web App Tutorial + Deployment on Heroku](https://www.youtube.com/watch?v=LSXU3dEDg9A) by Greg Hogg (YouTube)\n",
    "* **[Course]** [Deeplearning.AI Machine Learning in Production](https://www.coursera.org/learn/introduction-to-machine-learning-in-production) by DeepLearning.AI Team (Coursera)\n",
    "* **[Course]** [IBM AI Workflow: Enterprise Model Deployment](https://www.coursera.org/learn/ibm-ai-workflow-machine-learning-model-deployment) by IBM Team (Coursera)\n",
    "* **[Course]** [DataCamp Machine Learning Engineer Track](https://app.datacamp.com/learn/career-tracks/machine-learning-engineer) by DataCamp Team (DataCamp)\n",
    "* **[Course]** [DataCamp Designing Machine Learning Workflows in Python](https://app.datacamp.com/learn/courses/designing-machine-learning-workflows-in-python) by DataCamp Team (DataCamp)\n",
    "* **[Course]** [DataCamp Building APIs in Python](https://app.datacamp.com/learn/skill-tracks/building-apis-in-python) by DataCamp Team (DataCamp)"
   ]
  },
  {
   "cell_type": "code",
   "execution_count": 1,
   "id": "320b0c05-99fd-46ff-b0a2-489392dc1b51",
   "metadata": {},
   "outputs": [
    {
     "data": {
      "text/html": [
       "<style>.rendered_html { font-size: 15px; font-family: 'Trebuchet MS'; }</style>"
      ],
      "text/plain": [
       "<IPython.core.display.HTML object>"
      ]
     },
     "metadata": {},
     "output_type": "display_data"
    }
   ],
   "source": [
    "from IPython.display import display, HTML\n",
    "display(HTML(\"<style>.rendered_html { font-size: 15px; font-family: 'Trebuchet MS'; }</style>\"))"
   ]
  }
 ],
 "metadata": {
  "kernelspec": {
   "display_name": "Python 3 (ipykernel)",
   "language": "python",
   "name": "python3"
  },
  "language_info": {
   "codemirror_mode": {
    "name": "ipython",
    "version": 3
   },
   "file_extension": ".py",
   "mimetype": "text/x-python",
   "name": "python",
   "nbconvert_exporter": "python",
   "pygments_lexer": "ipython3",
   "version": "3.12.5"
  }
 },
 "nbformat": 4,
 "nbformat_minor": 5
}
