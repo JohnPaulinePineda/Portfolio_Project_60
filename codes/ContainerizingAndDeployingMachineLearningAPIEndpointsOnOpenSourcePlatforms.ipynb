{
 "cells": [
  {
   "cell_type": "markdown",
   "id": "4ebc3bd2-7773-440d-ad45-51eb19aeb330",
   "metadata": {},
   "source": [
    "***\n",
    "# Model Deployment : Containerizing and Deploying Machine Learning API Endpoints on Open-Source Platforms"
   ]
  },
  {
   "cell_type": "markdown",
   "id": "4ab8cd79-3963-44a9-9699-109cb674c2f2",
   "metadata": {},
   "source": [
    "***\n",
    "### [**John Pauline Pineda**](https://github.com/JohnPaulinePineda) <br> <br> *February 22, 2025*\n",
    "***"
   ]
  },
  {
   "cell_type": "markdown",
   "id": "677caad4-11ed-4174-91f3-bb93a7e72e57",
   "metadata": {},
   "source": [
    "* [**1. Table of Contents**](#TOC)\n",
    "* [**2. Summary**](#Summary)   \n",
    "* [**3. References**](#References)\n",
    "\n",
    "***"
   ]
  },
  {
   "cell_type": "markdown",
   "id": "77d0ccf2-9e7f-4876-950b-f3bc6428c738",
   "metadata": {},
   "source": [
    "# 1. Table of Contents <a class=\"anchor\" id=\"TOC\"></a>"
   ]
  },
  {
   "cell_type": "markdown",
   "id": "cd7be98b-eb93-4cf0-95d1-e19ee9176719",
   "metadata": {},
   "source": [
    "# 2. Summary <a class=\"anchor\" id=\"Summary\"></a>"
   ]
  },
  {
   "cell_type": "markdown",
   "id": "db813c40-3f27-4e3d-920c-7be5a24c2468",
   "metadata": {},
   "source": [
    "# 3. References <a class=\"anchor\" id=\"References\"></a>"
   ]
  },
  {
   "cell_type": "code",
   "execution_count": 1,
   "id": "320b0c05-99fd-46ff-b0a2-489392dc1b51",
   "metadata": {},
   "outputs": [
    {
     "data": {
      "text/html": [
       "<style>.rendered_html { font-size: 15px; font-family: 'Trebuchet MS'; }</style>"
      ],
      "text/plain": [
       "<IPython.core.display.HTML object>"
      ]
     },
     "metadata": {},
     "output_type": "display_data"
    }
   ],
   "source": [
    "from IPython.display import display, HTML\n",
    "display(HTML(\"<style>.rendered_html { font-size: 15px; font-family: 'Trebuchet MS'; }</style>\"))"
   ]
  }
 ],
 "metadata": {
  "kernelspec": {
   "display_name": "Python 3 (ipykernel)",
   "language": "python",
   "name": "python3"
  },
  "language_info": {
   "codemirror_mode": {
    "name": "ipython",
    "version": 3
   },
   "file_extension": ".py",
   "mimetype": "text/x-python",
   "name": "python",
   "nbconvert_exporter": "python",
   "pygments_lexer": "ipython3",
   "version": "3.12.5"
  }
 },
 "nbformat": 4,
 "nbformat_minor": 5
}
